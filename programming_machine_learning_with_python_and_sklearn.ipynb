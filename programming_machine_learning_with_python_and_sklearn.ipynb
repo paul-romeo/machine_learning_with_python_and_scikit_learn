{
 "metadata": {
  "language_info": {
   "codemirror_mode": {
    "name": "ipython",
    "version": 3
   },
   "file_extension": ".py",
   "mimetype": "text/x-python",
   "name": "python",
   "nbconvert_exporter": "python",
   "pygments_lexer": "ipython3",
   "version": "3.8.5-final"
  },
  "orig_nbformat": 2,
  "kernelspec": {
   "name": "python38564bitb7a15ca74f72451c945c2980c2516e34",
   "display_name": "Python 3.8.5 64-bit",
   "language": "python"
  }
 },
 "nbformat": 4,
 "nbformat_minor": 2,
 "cells": [
  {
   "cell_type": "code",
   "execution_count": 13,
   "metadata": {},
   "outputs": [
    {
     "output_type": "stream",
     "name": "stdout",
     "text": [
      "Love the book, great story line, keeps you entertained.for a first novel from this author she did a great job,  Would definitely recommend!\n4.0\nPOSITIVE\n"
     ]
    }
   ],
   "source": [
    "#######################################################\n",
    "class Sentiment: \n",
    "    NEGATIVE = \"NEGATIVE\"\n",
    "    NEUTRAL = \"NEUTRAL\"\n",
    "    POSITIVE = \"POSITIVE\"\n",
    "\n",
    "class Review: \n",
    "    def __init__(self, text, score):\n",
    "        self.text = text \n",
    "        self.score = score \n",
    "        self.sentiment = self.get_sentiment()\n",
    "\n",
    "    def get_sentiment(self):\n",
    "        if self.score <= 2: \n",
    "            return Sentiment.NEGATIVE\n",
    "        elif self.score == 3: \n",
    "            return Sentiment.NEUTRAL\n",
    "        else: \n",
    "            return Sentiment.POSITIVE\n",
    "\n",
    "#######################################################\n",
    "import json \n",
    "\n",
    "file_name = \"./data/sentiment/Books_small.json\"\n",
    "reviews = []\n",
    "\n",
    "with open(file_name) as f: \n",
    "    for line in f: \n",
    "        review = json.loads(line)\n",
    "        \n",
    "        reviews.append(Review(review[\"reviewText\"], review[\"overall\"]))\n",
    "\n",
    "print(reviews[5].text)         # reviews text \n",
    "print(reviews[5].score)        # overall \n",
    "print(reviews[5].sentiment)    # sentiment"
   ]
  },
  {
   "cell_type": "code",
   "execution_count": null,
   "metadata": {},
   "outputs": [],
   "source": []
  }
 ]
}